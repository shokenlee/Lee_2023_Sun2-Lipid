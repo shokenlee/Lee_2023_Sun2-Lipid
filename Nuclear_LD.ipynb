{
 "cells": [
  {
   "cell_type": "markdown",
   "id": "73750c06-da1c-47d8-a0e0-a6a0832920de",
   "metadata": {},
   "source": [
    "## **0. Setup**"
   ]
  },
  {
   "cell_type": "code",
   "execution_count": 38,
   "id": "c7278f4e-a7fa-4b94-9ba4-0d32a0df3895",
   "metadata": {},
   "outputs": [],
   "source": [
    "import os, glob, warnings\n",
    "import numpy as np\n",
    "import pandas as pd\n",
    "import matplotlib as mpl\n",
    "import matplotlib.pyplot as plt\n",
    "import seaborn as sns\n",
    "\n",
    "from statsmodels.stats.multicomp import pairwise_tukeyhsd\n",
    "\n",
    "# ignore warnings\n",
    "warnings.filterwarnings('ignore')\n",
    "\n",
    "# plotting configuration\n",
    "font = {'family': 'Arial', 'size': 15}\n",
    "mpl.rc('font', **font)\n",
    "plt.rcParams['svg.fonttype'] = 'none'\n",
    "\n",
    "# my_pal = ['grey', 'mediumseagreen']\n",
    "my_pal = ['grey', 'mediumseagreen', 'dodgerblue', 'darkviolet', 'yellow']\n",
    "\n",
    "# Make a folder if it not there yet and if needed\n",
    "# !mkdir ../jupyter_figures\n",
    "\n",
    "# set the directory where the data files are waiting\n",
    "# directory = '/Users/ShokenLEE/Desktop/DATA/Common data spreadsheets/nLD/RNAi/'\n",
    "directory = '/Users/ShokenLEE/Desktop/DATA/2022 10-12/P-235 Sun2 OE nLD/done'"
   ]
  },
  {
   "cell_type": "code",
   "execution_count": 2,
   "id": "afaa2907-1b73-41d6-849d-8c2468d3b469",
   "metadata": {},
   "outputs": [],
   "source": [
    "micron_per_pixel = 0.23"
   ]
  },
  {
   "cell_type": "markdown",
   "id": "ef34dd1c-122d-4a87-9b9b-2aa26fda4db1",
   "metadata": {},
   "source": [
    "## **1. Concanatate all the CSV files**"
   ]
  },
  {
   "cell_type": "code",
   "execution_count": 57,
   "id": "c920abd3-920d-4a3e-9b61-30dcd03b251e",
   "metadata": {},
   "outputs": [],
   "source": [
    "df = pd.DataFrame() # for nuclear protein and DAPI intensity data\n",
    "df_LD = pd.DataFrame() # for LD data\n",
    "\n",
    "for path, subdirs, files in os.walk(directory):\n",
    "    for file in files:\n",
    "        if (file.endswith('csv')) & ('ROI' not in file):\n",
    "            _df = pd.read_csv(os.path.join(path, file))\n",
    "            df = pd.concat([df, _df], axis=0)\n",
    "        elif (file.endswith('csv')) & ('ROI' in file):\n",
    "            _df = pd.read_csv(os.path.join(path, file))\n",
    "            df_LD = pd.concat([df_LD, _df], axis=0)"
   ]
  },
  {
   "cell_type": "code",
   "execution_count": 58,
   "id": "3b5a5807-bcc6-46e2-b45f-4a83b94b3a5f",
   "metadata": {},
   "outputs": [],
   "source": [
    "# rename columns\n",
    "df = df.rename(columns={' ': 'ROI_number'})\n",
    "df_LD = df_LD[[' ', 'Area', 'File name', 'ROI_number']]"
   ]
  },
  {
   "cell_type": "code",
   "execution_count": 59,
   "id": "2f673395-5d4b-48cf-b24f-f64dc4b41862",
   "metadata": {
    "tags": []
   },
   "outputs": [
    {
     "name": "stdout",
     "output_type": "stream",
     "text": [
      "<class 'pandas.core.frame.DataFrame'>\n",
      "Int64Index: 950 entries, 0 to 5\n",
      "Data columns (total 9 columns):\n",
      " #   Column      Non-Null Count  Dtype  \n",
      "---  ------      --------------  -----  \n",
      " 0   ROI_number  950 non-null    int64  \n",
      " 1   Area        950 non-null    float64\n",
      " 2   Mean        950 non-null    float64\n",
      " 3   Circ.       950 non-null    float64\n",
      " 4   AR          950 non-null    float64\n",
      " 5   Round       950 non-null    float64\n",
      " 6   Solidity    950 non-null    float64\n",
      " 7   DAPI mean   950 non-null    float64\n",
      " 8   File name   950 non-null    object \n",
      "dtypes: float64(7), int64(1), object(1)\n",
      "memory usage: 74.2+ KB\n"
     ]
    }
   ],
   "source": [
    "df.info()\n",
    "# df_LD.info()"
   ]
  },
  {
   "cell_type": "markdown",
   "id": "df0023e2-83ea-4e16-9256-51f1ac7c094d",
   "metadata": {},
   "source": [
    "#### Check the number of files"
   ]
  },
  {
   "cell_type": "code",
   "execution_count": 60,
   "id": "dfc440aa-b713-4ae8-8422-20165f467a29",
   "metadata": {},
   "outputs": [
    {
     "name": "stdout",
     "output_type": "stream",
     "text": [
      "85 85\n"
     ]
    }
   ],
   "source": [
    "print(len(df['File name'].unique()), len(df_LD['File name'].unique()))"
   ]
  },
  {
   "cell_type": "markdown",
   "id": "17ad2c86-b0c8-4250-b238-58271af94764",
   "metadata": {},
   "source": [
    "## **2. Summerize LD data**"
   ]
  },
  {
   "cell_type": "code",
   "execution_count": 61,
   "id": "4475e736-5996-402a-905b-fcff7484f37b",
   "metadata": {},
   "outputs": [],
   "source": [
    "# total area and number (count) of LD per nucleus\n",
    "df_LD_sumArea = df_LD.groupby(['File name', 'ROI_number'], as_index=False)['Area'].sum().rename(columns={'Area': 'total_nLD_area'})\n",
    "df_LD_count = df_LD.groupby(['File name', 'ROI_number'], as_index=False)['Area'].count().rename(columns={'Area': 'number_of_nLD'})\n",
    "\n",
    "# Merged the two above to summarize LD data\n",
    "df_LD_summary = df_LD_count.merge(df_LD_sumArea, on=['File name', 'ROI_number'])\n",
    "\n",
    "# Merge the LD data above to the df of nuclear protein and DAPI intensity data\n",
    "df = df.merge(df_LD_summary, how='outer', on=['File name', 'ROI_number'])\n",
    "\n",
    "# fill NA with 0\n",
    "df.fillna(0, inplace=True)"
   ]
  },
  {
   "cell_type": "code",
   "execution_count": 62,
   "id": "31a1a621-6c56-41cd-b6c2-85c9a845acb3",
   "metadata": {},
   "outputs": [],
   "source": [
    "df['nLD_area_fraction'] = df.total_nLD_area / df.Area"
   ]
  },
  {
   "cell_type": "markdown",
   "id": "c6ef7af8-c9b5-43c7-ba46-7c08f433592e",
   "metadata": {},
   "source": [
    "## **3. Group cell/condition types**"
   ]
  },
  {
   "cell_type": "markdown",
   "id": "113a4b4f-977e-46bd-8d87-783f994c3e4b",
   "metadata": {},
   "source": [
    "#### **Prepare column order for graphs**"
   ]
  },
  {
   "cell_type": "code",
   "execution_count": 63,
   "id": "8a45d2a8-05ab-458e-8d3a-caa039ef7af4",
   "metadata": {},
   "outputs": [],
   "source": [
    "# Pre-define groups (conditions) and its order in graphs\n",
    "group_name_options = ['siRNA type', 'Plasmid type']\n",
    "group_name = group_name_options[1]\n",
    "\n",
    "group_order_options = [\n",
    "    ['siCtrl', 'siSun2', 'siSun1', 'siCTDNEP1'],\n",
    "    ['Mock', 'WT', '2SA', '2SA_LVWA', 'Sun1']\n",
    "]\n",
    "group_order = group_order_options[1]\n",
    "\n",
    "hue_name = 'Sun2_OE'\n",
    "hue_order = ['(-)', '(+)']"
   ]
  },
  {
   "cell_type": "markdown",
   "id": "eab67f1f-8cb0-4fb3-b039-ec2864668b0d",
   "metadata": {},
   "source": [
    "#### **Cell type**"
   ]
  },
  {
   "cell_type": "code",
   "execution_count": 45,
   "id": "82876856-8314-40ea-9902-f6ec0b11964c",
   "metadata": {},
   "outputs": [],
   "source": [
    "df.loc[df['File name'].str.contains('Sctrl'), 'Cell type'] = 'Control'\n",
    "df.loc[df['File name'].str.contains('CTDNEP1'), 'Cell type'] = 'CTDNEP1 KO'"
   ]
  },
  {
   "cell_type": "markdown",
   "id": "f18befe2-0f0b-47f6-a332-2bc09c6ece13",
   "metadata": {},
   "source": [
    "#### **siRNA type**"
   ]
  },
  {
   "cell_type": "code",
   "execution_count": 10,
   "id": "e589b136-8484-4c63-a96c-4de65fcba52d",
   "metadata": {},
   "outputs": [],
   "source": [
    "df.loc[df['File name'].str.contains('siCtrl'), 'siRNA type'] = group_order[0]\n",
    "df.loc[df['File name'].str.contains('siSun2'), 'siRNA type'] = group_order[1]\n",
    "df.loc[df['File name'].str.contains('siSun1'), 'siRNA type'] = group_order[2]\n",
    "df.loc[df['File name'].str.contains('siCTDNEP1'), 'siRNA type'] = group_order[3]"
   ]
  },
  {
   "cell_type": "markdown",
   "id": "90223d06-4a62-4e5a-897d-ec21230ca522",
   "metadata": {},
   "source": [
    "#### **Plasmid type**"
   ]
  },
  {
   "cell_type": "code",
   "execution_count": 64,
   "id": "e1fbd342-d6ca-4f8c-8970-f3d3a7d7eee8",
   "metadata": {},
   "outputs": [],
   "source": [
    "df.loc[df['File name'].str.contains('mock'), 'Plasmid type'] = group_order[0]\n",
    "df.loc[df['File name'].str.contains('WT '), 'Plasmid type'] = group_order[1]\n",
    "df.loc[df['File name'].str.contains('SA '), 'Plasmid type'] = group_order[2]\n",
    "df.loc[df['File name'].str.contains('SA-LVWA'), 'Plasmid type'] = group_order[3]\n",
    "df.loc[df['File name'].str.contains('Sun1'), 'Plasmid type'] = group_order[4]"
   ]
  },
  {
   "cell_type": "markdown",
   "id": "7be0f6ba-3c36-40e3-8996-ebf9ab3597b9",
   "metadata": {},
   "source": [
    "#### **Sun2 OE Cutoff**"
   ]
  },
  {
   "cell_type": "code",
   "execution_count": 65,
   "id": "8d99d43f-b9e9-4165-83c0-7bcca0300637",
   "metadata": {},
   "outputs": [],
   "source": [
    "# Set the threshold\n",
    "min_tag_intensity = 3000\n",
    "\n",
    "# Sort Tag mean based on the threshold\n",
    "df['Sun2_OE'] = df.apply(lambda x: '(+)' if x['Mean'] > min_tag_intensity else '(-)', axis=1)"
   ]
  },
  {
   "cell_type": "markdown",
   "id": "be6c112a-2a73-4ede-b263-510ee4c86a07",
   "metadata": {},
   "source": [
    "#### **Image number**"
   ]
  },
  {
   "cell_type": "code",
   "execution_count": 66,
   "id": "539fb060-f323-4588-b7b0-2a377c35779d",
   "metadata": {},
   "outputs": [],
   "source": [
    "df['Image number'] = df['File name'].str[-7:-4]"
   ]
  },
  {
   "cell_type": "markdown",
   "id": "d4d81c8d-5843-4279-836c-9c18b4f2b6f7",
   "metadata": {},
   "source": [
    "##### Check the number is correctly extracted"
   ]
  },
  {
   "cell_type": "code",
   "execution_count": 67,
   "id": "bf078448-6e15-4413-b527-bb326b27a6c8",
   "metadata": {},
   "outputs": [
    {
     "name": "stdout",
     "output_type": "stream",
     "text": [
      "006\n"
     ]
    }
   ],
   "source": [
    "print(list(df['Image number'].unique())[1])"
   ]
  },
  {
   "cell_type": "markdown",
   "id": "55a63d63-11ce-4a62-9138-78270e8a3114",
   "metadata": {},
   "source": [
    "## **4. Analysis**"
   ]
  },
  {
   "cell_type": "markdown",
   "id": "c1b02548-3001-4af9-814c-7a6f64f395e0",
   "metadata": {},
   "source": [
    "### **Sample size**"
   ]
  },
  {
   "cell_type": "code",
   "execution_count": 68,
   "id": "2c303864-8209-4aaf-ab7f-c890204c72f9",
   "metadata": {},
   "outputs": [
    {
     "data": {
      "text/plain": [
       "Plasmid type  Sun2_OE\n",
       "2SA           (+)         99\n",
       "              (-)         48\n",
       "2SA_LVWA      (+)         88\n",
       "              (-)        136\n",
       "Mock          (-)        138\n",
       "Sun1          (+)         49\n",
       "              (-)        167\n",
       "WT            (+)         93\n",
       "              (-)        132\n",
       "dtype: int64"
      ]
     },
     "execution_count": 68,
     "metadata": {},
     "output_type": "execute_result"
    }
   ],
   "source": [
    "# df.groupby(['siRNA type']).size()\n",
    "df.groupby([group_name, hue_name]).size()"
   ]
  },
  {
   "cell_type": "code",
   "execution_count": 31,
   "id": "8b35fa64-0712-4c23-ad1e-eecbc7bb5c58",
   "metadata": {},
   "outputs": [
    {
     "data": {
      "text/plain": [
       "Sun2_OE\n",
       "(+)    72\n",
       "(-)    78\n",
       "dtype: int64"
      ]
     },
     "execution_count": 31,
     "metadata": {},
     "output_type": "execute_result"
    }
   ],
   "source": [
    "df[df.number_of_nLD>0].groupby([group_name]).size()"
   ]
  },
  {
   "cell_type": "markdown",
   "id": "8cf5477d-8918-4624-ba7d-48576eb310ff",
   "metadata": {},
   "source": [
    "### **Nuclear LD analysis**"
   ]
  },
  {
   "cell_type": "markdown",
   "id": "bf9f95f7-14ce-43dc-b6e9-4dc44a51690a",
   "metadata": {},
   "source": [
    "### % of cells with nLD"
   ]
  },
  {
   "cell_type": "code",
   "execution_count": 69,
   "id": "ac352d4a-d580-4a04-bea8-0a0abb6df137",
   "metadata": {},
   "outputs": [
    {
     "data": {
      "text/html": [
       "<div>\n",
       "<style scoped>\n",
       "    .dataframe tbody tr th:only-of-type {\n",
       "        vertical-align: middle;\n",
       "    }\n",
       "\n",
       "    .dataframe tbody tr th {\n",
       "        vertical-align: top;\n",
       "    }\n",
       "\n",
       "    .dataframe thead th {\n",
       "        text-align: right;\n",
       "    }\n",
       "</style>\n",
       "<table border=\"1\" class=\"dataframe\">\n",
       "  <thead>\n",
       "    <tr style=\"text-align: right;\">\n",
       "      <th></th>\n",
       "      <th>Plasmid type</th>\n",
       "      <th>number_of_cells</th>\n",
       "      <th>number_of_cells_w_nLD</th>\n",
       "      <th>% of cells with nLD</th>\n",
       "    </tr>\n",
       "  </thead>\n",
       "  <tbody>\n",
       "    <tr>\n",
       "      <th>0</th>\n",
       "      <td>2SA</td>\n",
       "      <td>147</td>\n",
       "      <td>91</td>\n",
       "      <td>61.904762</td>\n",
       "    </tr>\n",
       "    <tr>\n",
       "      <th>1</th>\n",
       "      <td>2SA_LVWA</td>\n",
       "      <td>224</td>\n",
       "      <td>130</td>\n",
       "      <td>58.035714</td>\n",
       "    </tr>\n",
       "    <tr>\n",
       "      <th>2</th>\n",
       "      <td>Mock</td>\n",
       "      <td>138</td>\n",
       "      <td>78</td>\n",
       "      <td>56.521739</td>\n",
       "    </tr>\n",
       "    <tr>\n",
       "      <th>3</th>\n",
       "      <td>Sun1</td>\n",
       "      <td>216</td>\n",
       "      <td>109</td>\n",
       "      <td>50.462963</td>\n",
       "    </tr>\n",
       "    <tr>\n",
       "      <th>4</th>\n",
       "      <td>WT</td>\n",
       "      <td>225</td>\n",
       "      <td>152</td>\n",
       "      <td>67.555556</td>\n",
       "    </tr>\n",
       "  </tbody>\n",
       "</table>\n",
       "</div>"
      ],
      "text/plain": [
       "  Plasmid type  number_of_cells  number_of_cells_w_nLD  % of cells with nLD\n",
       "0          2SA              147                     91            61.904762\n",
       "1     2SA_LVWA              224                    130            58.035714\n",
       "2         Mock              138                     78            56.521739\n",
       "3         Sun1              216                    109            50.462963\n",
       "4           WT              225                    152            67.555556"
      ]
     },
     "execution_count": 69,
     "metadata": {},
     "output_type": "execute_result"
    }
   ],
   "source": [
    "# _df_1: n of total cells; _df_2: n of cells with nLD\n",
    "_df_1 = df.groupby([group_name], as_index=False).size().rename(columns={'size': 'number_of_cells'})\n",
    "_df_2 = df[df.number_of_nLD > 0].groupby([group_name], as_index=False).size().rename(columns={'size': 'number_of_cells_w_nLD'})\n",
    "df_n_cells = _df_1.merge(_df_2, on=[group_name])\n",
    "\n",
    "df_n_cells['% of cells with nLD'] = df_n_cells.number_of_cells_w_nLD / df_n_cells.number_of_cells * 100\n",
    "# df_n_cells.to_csv(directory + '/n_of_cells.csv', index_label=False)\n",
    "df_n_cells"
   ]
  },
  {
   "cell_type": "code",
   "execution_count": 18,
   "id": "f25fd147-3b2b-4325-863a-faf1aaa19c76",
   "metadata": {},
   "outputs": [
    {
     "data": {
      "image/png": "[encoded data removed]",
      "text/plain": [
       "<Figure size 504x360 with 1 Axes>"
      ]
     },
     "metadata": {
      "needs_background": "light"
     },
     "output_type": "display_data"
    }
   ],
   "source": [
    "fig = plt.figure(figsize=(7,5))\n",
    "ax = sns.barplot(data= df_n_cells, x=group_name, y='% of cells with nLD',\n",
    "                 order=group_order,\n",
    "                palette=my_pal)\n",
    "# plt.legend(bbox_to_anchor=(1.05, 1), title='Sun2 OE', loc='upper left', borderaxespad=0)"
   ]
  },
  {
   "cell_type": "code",
   "execution_count": 114,
   "id": "92849c0a-4c99-496a-a840-8231ff8f3ec9",
   "metadata": {},
   "outputs": [],
   "source": [
    "fig.savefig(directory + '/%cells_w_nLD.pdf', bbox_inches='tight', transparent=True)"
   ]
  },
  {
   "cell_type": "markdown",
   "id": "32b136bf-4df6-48a4-befd-1791007d3154",
   "metadata": {},
   "source": [
    "### nLD area: mean values"
   ]
  },
  {
   "cell_type": "code",
   "execution_count": 34,
   "id": "d6ed0baf-dc1c-431a-af67-c4723adc12b6",
   "metadata": {},
   "outputs": [
    {
     "data": {
      "text/plain": [
       "Sun2_OE\n",
       "(+)    0.008767\n",
       "(-)    0.013627\n",
       "Name: nLD_area_fraction, dtype: float64"
      ]
     },
     "execution_count": 34,
     "metadata": {},
     "output_type": "execute_result"
    }
   ],
   "source": [
    "df[df['number_of_nLD']>0].groupby(group_name)['nLD_area_fraction'].mean()"
   ]
  },
  {
   "cell_type": "code",
   "execution_count": 33,
   "id": "a26e859c-9ee0-4f9f-bbec-59eb5553f7bd",
   "metadata": {},
   "outputs": [
    {
     "data": {
      "text/plain": [
       "Sun2_OE\n",
       "(+)    2.527778\n",
       "(-)    3.064103\n",
       "Name: number_of_nLD, dtype: float64"
      ]
     },
     "execution_count": 33,
     "metadata": {},
     "output_type": "execute_result"
    }
   ],
   "source": [
    "df[df['number_of_nLD']>0].groupby(group_name)['number_of_nLD'].mean()"
   ]
  },
  {
   "cell_type": "markdown",
   "id": "b879c038-f1cd-4a34-82fa-164a8d1211b1",
   "metadata": {},
   "source": [
    "### Mean area of nLD per cell (not quantifiable with Sun2 OE experiment)"
   ]
  },
  {
   "cell_type": "code",
   "execution_count": 36,
   "id": "ca4eed5d-0678-4337-94d2-3bd54c05583f",
   "metadata": {},
   "outputs": [],
   "source": [
    "# group siRNA type\n",
    "df_LD.loc[df_LD['File name'].str.contains('siCtrl'), 'siRNA type'] = column_order[0]\n",
    "df_LD.loc[df_LD['File name'].str.contains('siSun2'), 'siRNA type'] = column_order[1]\n",
    "df_LD.loc[df_LD['File name'].str.contains('siSun1'), 'siRNA type'] = column_order[2]\n",
    "df_LD.loc[df_LD['File name'].str.contains('siSeipin'), 'siRNA type'] = column_order[3]\n",
    "df_LD.loc[df_LD['File name'].str.contains('siCTDNEP1'), 'siRNA type'] = column_order[4]\n",
    "\n",
    "# convert pixel sq to micron sq\n",
    "df_LD['Area_micronsq'] = df_LD.Area * np.square(0.23)\n",
    "\n",
    "fig = plt.figure(figsize=(7,6))\n",
    "ax1 = sns.boxplot(data=df_LD[df_LD['Area_micronsq']<2], x=group_name, y='Area_micronsq', \n",
    "                  order=column_order, palette=my_pal)\n",
    "plt.title('Area of indivisual nLD')\n",
    "plt.ylabel('Area (square micron)')"
   ]
  },
  {
   "cell_type": "code",
   "execution_count": 72,
   "id": "ee7aae4d-f89f-4137-ba28-f4a8df984a29",
   "metadata": {},
   "outputs": [
    {
     "data": {
      "text/plain": [
       "siRNA type\n",
       "siCTDNEP1    0.039249\n",
       "siCtrl       0.042030\n",
       "siSeipin     0.042515\n",
       "siSun1       0.051057\n",
       "siSun2       0.050856\n",
       "Name: Area_micronsq, dtype: float64"
      ]
     },
     "execution_count": 72,
     "metadata": {},
     "output_type": "execute_result"
    }
   ],
   "source": [
    "df_LD.groupby(['siRNA type'])['Area_micronsq'].mean()"
   ]
  },
  {
   "cell_type": "code",
   "execution_count": 75,
   "id": "7b37e7ec-86ed-4c2a-b92a-f97d09565520",
   "metadata": {},
   "outputs": [
    {
     "data": {
      "text/plain": [
       "siRNA type\n",
       "siCTDNEP1    101\n",
       "siCtrl       150\n",
       "siSeipin     205\n",
       "siSun1       272\n",
       "siSun2       201\n",
       "dtype: int64"
      ]
     },
     "execution_count": 75,
     "metadata": {},
     "output_type": "execute_result"
    }
   ],
   "source": [
    "df_LD.groupby(['siRNA type']).size()"
   ]
  },
  {
   "cell_type": "code",
   "execution_count": 69,
   "id": "12b8b8ba-fbfb-47e5-877b-2cbfee46ffda",
   "metadata": {},
   "outputs": [],
   "source": [
    "fig.savefig(directory + '/Area_individual_nLD.pdf', bbox_inches='tight', transparent=True)"
   ]
  },
  {
   "cell_type": "markdown",
   "id": "27b6e1a0-d995-4620-9ba9-e1adf2bd109e",
   "metadata": {},
   "source": [
    "### Graphs of nLD area and number"
   ]
  },
  {
   "cell_type": "code",
   "execution_count": 70,
   "id": "5858cc4e-c1a5-4292-b4ed-2ee72ee3788c",
   "metadata": {},
   "outputs": [
    {
     "data": {
      "text/plain": [
       "Text(0, 0.5, 'Area_fraction')"
      ]
     },
     "execution_count": 70,
     "metadata": {},
     "output_type": "execute_result"
    },
    {
     "data": {
      "image/png": "[encoded data removed]",
      "text/plain": [
       "<Figure size 432x576 with 1 Axes>"
      ]
     },
     "metadata": {
      "needs_background": "light"
     },
     "output_type": "display_data"
    }
   ],
   "source": [
    "# fig, ax = plt.subplots(1, 3, figsize=(15, 5))\n",
    "\n",
    "fig = plt.figure(figsize=(6,8))\n",
    "# ax_box = fig.add_axes([0.1, 0.1, 0.8, 0.8])\n",
    "\n",
    "# ax1 = fig.add_subplot(2,2,1)\n",
    "# ax1 = sns.boxplot(data=df, x=group_name, order=group_order, y='nLD_area_fraction', palette=my_pal)\n",
    "# plt.title('Area occupied by nLD \\n (All cells)')\n",
    "# plt.ylabel('Area_fraction')\n",
    "# # plt.legend(bbox_to_anchor=(1.05, 1), title='Sun2 OE', loc='upper left', borderaxespad=0)\n",
    "# # plt.yscale('log')\n",
    "# # ax1.spines['top'].set_visible(False)\n",
    "# # ax_box.spines['right'].set_visible(False)\n",
    "\n",
    "ax2 = fig.add_subplot(1,1,1)\n",
    "ax2 = sns.boxplot(data=df[df.number_of_nLD > 0], x=group_name, order=group_order, hue=hue_name, hue_order=hue_order, y='nLD_area_fraction', palette=my_pal)\n",
    "plt.ylim([0, 0.04])\n",
    "plt.title('Area occupied by nLD \\n (Only cells with nLD)')\n",
    "plt.ylabel('Area_fraction')\n",
    "\n",
    "# ax3 = fig.add_subplot(2,2,2)\n",
    "# ax3 = sns.boxplot(data=df[df.number_of_nLD > 0], x=group_name, order=group_order, y='nLD_area_fraction', palette=my_pal)\n",
    "# plt.ylim([0.04, 0.1])\n",
    "# plt.title('Area occupied by nLD \\n (Only cells with nLD)')\n",
    "# plt.ylabel('Area_fraction')\n",
    "\n",
    "# ax3 = fig.add_subplot(2,2,3)\n",
    "# ax3 = sns.boxplot(data=df, x=group_name, order=group_order, y='number_of_nLD', palette=my_pal)\n",
    "# plt.title('Number of nLD per nucleus \\n (All cells)')\n",
    "# plt.ylabel('Count')\n",
    "# # plt.yscale('log')\n",
    "\n",
    "# ax3 = fig.add_subplot(2,2,4)\n",
    "# ax3 = sns.boxplot(data=df[df.number_of_nLD > 0], x=group_name, order=group_order, y='number_of_nLD', palette=my_pal)\n",
    "# plt.title('Number of nLD per nucleus \\n (Only cells with nLD)')\n",
    "# plt.ylabel('Count')\n",
    "# # # plt.yscale('log')"
   ]
  },
  {
   "cell_type": "code",
   "execution_count": 39,
   "id": "8fa97c8e-138f-4e26-b2b1-c79e9206408c",
   "metadata": {},
   "outputs": [],
   "source": [
    "fig.savefig(directory + '/nLD_area_number_bottom.pdf', bbox_inches='tight', transparent=True)"
   ]
  },
  {
   "cell_type": "code",
   "execution_count": 40,
   "id": "2240eaa1-a25e-4733-a380-83c291f51191",
   "metadata": {},
   "outputs": [
    {
     "data": {
      "text/plain": [
       "Text(0, 0.5, 'Area_fraction')"
      ]
     },
     "execution_count": 40,
     "metadata": {},
     "output_type": "execute_result"
    },
    {
     "data": {
      "image/png": "[encoded data removed]",
      "text/plain": [
       "<Figure size 432x216 with 1 Axes>"
      ]
     },
     "metadata": {
      "needs_background": "light"
     },
     "output_type": "display_data"
    }
   ],
   "source": [
    "fig = plt.figure(figsize=(6,3))\n",
    "ax3 = fig.add_subplot(1,1,1)\n",
    "ax3 = sns.boxplot(data=df[df.number_of_nLD > 0], x=group_name, order=group_order, y='nLD_area_fraction', palette=my_pal)\n",
    "plt.ylim([0.04, 0.1])\n",
    "plt.title('Area occupied by nLD \\n (Only cells with nLD)')\n",
    "plt.ylabel('Area_fraction')"
   ]
  },
  {
   "cell_type": "code",
   "execution_count": 41,
   "id": "ea334f7f-f7d5-41a0-81d2-671932d9dab4",
   "metadata": {},
   "outputs": [],
   "source": [
    "fig.savefig(directory + '/nLD_area_number_top.pdf', bbox_inches='tight', transparent=True)"
   ]
  },
  {
   "cell_type": "markdown",
   "id": "22958e79-2406-4dad-9d58-6236b199dd39",
   "metadata": {},
   "source": [
    "### **Tukey test**"
   ]
  },
  {
   "cell_type": "markdown",
   "id": "f783693b-c2df-47ba-a3bf-3627b62d674e",
   "metadata": {},
   "source": [
    "### With non-nLD cells"
   ]
  },
  {
   "cell_type": "code",
   "execution_count": 20,
   "id": "83426819-c194-4079-bd35-31bdad738b81",
   "metadata": {},
   "outputs": [
    {
     "name": "stdout",
     "output_type": "stream",
     "text": [
      "Multiple Comparison of Means - Tukey HSD, FWER=0.05\n",
      "===================================================\n",
      "group1 group2 meandiff p-adj   lower  upper  reject\n",
      "---------------------------------------------------\n",
      "   (+)    (-)   0.0016 0.3673 -0.0019 0.0051  False\n",
      "---------------------------------------------------\n"
     ]
    }
   ],
   "source": [
    "res = pairwise_tukeyhsd(df['nLD_area_fraction'], df[\"Sun2_OE\"], alpha=0.05)\n",
    "print(res)"
   ]
  },
  {
   "cell_type": "markdown",
   "id": "dc6d7339-4f71-431c-b009-c759ea8d9d35",
   "metadata": {},
   "source": [
    "### Without non-nLD cells"
   ]
  },
  {
   "cell_type": "code",
   "execution_count": 20,
   "id": "e6ff0211-dc18-4487-8804-e536615ac221",
   "metadata": {},
   "outputs": [
    {
     "name": "stdout",
     "output_type": "stream",
     "text": [
      " Multiple Comparison of Means - Tukey HSD, FWER=0.05  \n",
      "======================================================\n",
      "  group1  group2 meandiff p-adj   lower  upper  reject\n",
      "------------------------------------------------------\n",
      "siCTDNEP1 siCtrl   0.0003    0.9 -0.0038 0.0043  False\n",
      "siCTDNEP1 siSun2   0.0026 0.2955 -0.0015 0.0067  False\n",
      "   siCtrl siSun2   0.0023  0.293 -0.0013  0.006  False\n",
      "------------------------------------------------------\n"
     ]
    }
   ],
   "source": [
    "_df = df[df['number_of_nLD'] > 0]\n",
    "res = pairwise_tukeyhsd(_df['nLD_area_fraction'], _df['siRNA type'], alpha=0.05)\n",
    "print(res)"
   ]
  },
  {
   "cell_type": "markdown",
   "id": "15d48ed4-e28c-4d61-8b13-4eafa51c05bc",
   "metadata": {},
   "source": [
    "#### **C3 channel intensity (background subtracted)**"
   ]
  },
  {
   "cell_type": "markdown",
   "id": "a35e3b40-362f-4696-953b-2cd7917190be",
   "metadata": {},
   "source": [
    "##### **C3 distribution**"
   ]
  },
  {
   "cell_type": "code",
   "execution_count": 7,
   "id": "983b8032-c7e3-4eb3-8525-5f107cf185fb",
   "metadata": {},
   "outputs": [
    {
     "data": {
      "image/png": "[encoded data removed]",
      "text/plain": [
       "<Figure size 360x360 with 1 Axes>"
      ]
     },
     "metadata": {
      "needs_background": "light"
     },
     "output_type": "display_data"
    }
   ],
   "source": [
    "hist = sns.displot(x='Mean', data=df, binwidth=500)\n",
    "# hist = sns.displot(x='Mean', data=df, col='Cell type', hue='siRNA type', hue_order=['siCtrl', 'siCDS1', 'siCDS2', 'siPIS'], palette=my_pal, binwidth=500)"
   ]
  },
  {
   "cell_type": "code",
   "execution_count": 49,
   "id": "962adb5a-a3f1-4ae7-a647-6434b7db005c",
   "metadata": {},
   "outputs": [
    {
     "data": {
      "text/plain": [
       "3180.545"
      ]
     },
     "execution_count": 49,
     "metadata": {},
     "output_type": "execute_result"
    }
   ],
   "source": [
    "# df.groupby('Tag expression')['Mean'].min()\n",
    "df['Mean'].min()"
   ]
  },
  {
   "cell_type": "markdown",
   "id": "2ee0eb21-cf69-4fdd-b7da-b68b83317acb",
   "metadata": {},
   "source": [
    "##### **Background subtraction from C3 intensity value**"
   ]
  },
  {
   "cell_type": "code",
   "execution_count": 8,
   "id": "604b713f-f17c-48ce-b6f9-a1b1eec937ed",
   "metadata": {},
   "outputs": [],
   "source": [
    "background_C3 = 1800\n",
    "\n",
    "df['C3 mean - background'] = df['Mean'] - background_C3"
   ]
  },
  {
   "cell_type": "markdown",
   "id": "40daef52-c96a-4861-b32b-4698a3c3accd",
   "metadata": {},
   "source": [
    "#### **Scatter plot (nLD area vs Sun2 intensity)**"
   ]
  },
  {
   "cell_type": "code",
   "execution_count": 11,
   "id": "057f802d-1c57-4fd9-baff-deed62fe9816",
   "metadata": {
    "tags": []
   },
   "outputs": [
    {
     "data": {
      "text/plain": [
       "<Figure size 360x360 with 0 Axes>"
      ]
     },
     "metadata": {},
     "output_type": "display_data"
    },
    {
     "data": {
      "image/png": "[encoded data removed]",
      "text/plain": [
       "<Figure size 360x360 with 1 Axes>"
      ]
     },
     "metadata": {
      "needs_background": "light"
     },
     "output_type": "display_data"
    }
   ],
   "source": [
    "fig = plt.figure(figsize=(5, 5))\n",
    "scatter = sns.lmplot(x='C3 mean - background', y='number_of_nLD', data=df, legend_out=False)\n",
    "plt.title('Number of nLD vs Nuclear Sun1 level \\n (All cells)')\n",
    "plt.xlabel('Intensity in nucleus')\n",
    "plt.ylabel('Number of nLD')\n",
    "scatter.savefig(directory + '/N_of_LD_vs_Sun1_all_cells.jpg', bbox_inches='tight')"
   ]
  },
  {
   "cell_type": "code",
   "execution_count": 53,
   "id": "6ea4593c-6ae1-449a-9329-1378ba1d4741",
   "metadata": {},
   "outputs": [
    {
     "data": {
      "text/plain": [
       "<Figure size 720x720 with 0 Axes>"
      ]
     },
     "metadata": {},
     "output_type": "display_data"
    },
    {
     "data": {
      "image/png": "[encoded data removed]",
      "text/plain": [
       "<Figure size 360x360 with 1 Axes>"
      ]
     },
     "metadata": {
      "needs_background": "light"
     },
     "output_type": "display_data"
    }
   ],
   "source": [
    "fig = plt.figure(figsize=(10,10))\n",
    "scatter = sns.lmplot(x='C3 mean - background', y='number_of_nLD', data=df[df.number_of_nLD > 0], legend_out=False)\n",
    "plt.title('Number of nLD vs Nuclear Sun1 level \\n (Only cells with nLD)')\n",
    "plt.xlabel('Intensity in nucleus')\n",
    "plt.ylabel('Number of nLD')\n",
    "scatter.savefig(directory + '/N_of_LD_vs_Sun1_nLD_cells.jpg', bbox_inches='tight')"
   ]
  },
  {
   "cell_type": "code",
   "execution_count": 55,
   "id": "9b83c7cd-e48d-441a-8585-117aea14dc24",
   "metadata": {},
   "outputs": [
    {
     "data": {
      "text/plain": [
       "<Figure size 720x720 with 0 Axes>"
      ]
     },
     "metadata": {},
     "output_type": "display_data"
    },
    {
     "data": {
      "image/png": "[encoded data removed]",
      "text/plain": [
       "<Figure size 360x360 with 1 Axes>"
      ]
     },
     "metadata": {
      "needs_background": "light"
     },
     "output_type": "display_data"
    }
   ],
   "source": [
    "fig = plt.figure(figsize=(10,10))\n",
    "scatter = sns.lmplot(x='C3 mean - background', y='nLD_area_fraction', data=df, legend_out=False)\n",
    "plt.title('nLD area per nucleus vs Nuclear Sun1 level \\n (All cells)')\n",
    "plt.xlabel('Intensity in nucleus')\n",
    "plt.ylabel('Area fraction')\n",
    "scatter.savefig(directory + '/Area_of_LD_vs_Sun2_all_cells.jpg', bbox_inches='tight')"
   ]
  },
  {
   "cell_type": "code",
   "execution_count": 56,
   "id": "e68f202b-0c45-4ac3-a780-c6ec66f4de72",
   "metadata": {},
   "outputs": [
    {
     "data": {
      "text/plain": [
       "<Figure size 720x720 with 0 Axes>"
      ]
     },
     "metadata": {},
     "output_type": "display_data"
    },
    {
     "data": {
      "image/png": "[encoded data removed]",
      "text/plain": [
       "<Figure size 360x360 with 1 Axes>"
      ]
     },
     "metadata": {
      "needs_background": "light"
     },
     "output_type": "display_data"
    }
   ],
   "source": [
    "fig = plt.figure(figsize=(10,10))\n",
    "scatter = sns.lmplot(x='C3 mean - background', y='nLD_area_fraction', data=df[df.number_of_nLD > 0], legend_out=False)\n",
    "plt.title('nLD area per nucleus vs Nuclear Sun1 level \\n (Only cells with nLD)')\n",
    "plt.xlabel('Intensity in nucleus')\n",
    "plt.ylabel('Area fraction')\n",
    "scatter.savefig(directory + '/Area_of_LD_vs_Sun1_nLD_cells.jpg', bbox_inches='tight')"
   ]
  },
  {
   "cell_type": "code",
   "execution_count": 98,
   "id": "fa1f49a6-c4ec-4014-8f6e-5c7ad62685e1",
   "metadata": {},
   "outputs": [],
   "source": [
    "fig.savefig(directory + '/N_of_LD_vs_Sun2_nLD_cells.pdf', transparent=True, bbox_inches='tight')"
   ]
  },
  {
   "cell_type": "markdown",
   "id": "7860aff1-3036-45fc-b9b2-1225cc54bd9a",
   "metadata": {},
   "source": [
    "#### **3-1. Mitotic cells**"
   ]
  },
  {
   "cell_type": "code",
   "execution_count": 14,
   "id": "db081cc0-8dfc-47c7-bfa4-d43ea92d679d",
   "metadata": {
    "tags": []
   },
   "outputs": [
    {
     "data": {
      "image/png": "[encoded data removed]",
      "text/plain": [
       "<Figure size 360x360 with 1 Axes>"
      ]
     },
     "metadata": {
      "needs_background": "light"
     },
     "output_type": "display_data"
    }
   ],
   "source": [
    "# hist = sns.displot(data=df, x='DAPI mean', hue='Cell type', hue_order=['Control', 'CTDNEP1 KO'], binwidth=400)\n",
    "hist = sns.displot(data=df, x='DAPI mean', binwidth=400)\n",
    "# plt.xlim([1000,4000])"
   ]
  },
  {
   "cell_type": "markdown",
   "id": "0300ccf8-0e72-44a0-9789-2a02f5f60776",
   "metadata": {},
   "source": [
    "#### **Remove cells with too hight DAPI intensity, which are likely mitotic cells**"
   ]
  },
  {
   "cell_type": "code",
   "execution_count": 32,
   "id": "e176dfac-38f0-46f9-aab5-52fa97fa5801",
   "metadata": {},
   "outputs": [],
   "source": [
    "max_DNA_intensity = 12000\n",
    "\n",
    "df = df[df['DAPI mean'] < max_DNA_intensity]"
   ]
  }
 ],
 "metadata": {
  "kernelspec": {
   "display_name": "Python 3",
   "language": "python",
   "name": "python3"
  },
  "language_info": {
   "codemirror_mode": {
    "name": "ipython",
    "version": 3
   },
   "file_extension": ".py",
   "mimetype": "text/x-python",
   "name": "python",
   "nbconvert_exporter": "python",
   "pygments_lexer": "ipython3",
   "version": "3.8.8"
  }
 },
 "nbformat": 4,
 "nbformat_minor": 5
}
